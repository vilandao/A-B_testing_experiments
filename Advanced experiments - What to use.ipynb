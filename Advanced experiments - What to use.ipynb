{
 "cells": [
  {
   "cell_type": "markdown",
   "metadata": {},
   "source": [
    "## Advanced Experiments: What to use\n",
    "--------------------------------------------\n",
    "\n",
    "Using selected questions from the 2012 and 2014 editions of the European Social Survey, address the following statistical questions. "
   ]
  },
  {
   "cell_type": "code",
   "execution_count": 19,
   "metadata": {},
   "outputs": [],
   "source": [
    "# Import libraries:\n",
    "import pandas as pd\n",
    "import numpy as np\n",
    "import matplotlib.pyplot as plt\n",
    "import seaborn as sns\n",
    "import scipy.stats as stats\n",
    "from scipy.stats import ttest_ind, kruskal, wilcoxon, f_oneway\n",
    "from statsmodels.stats.multicomp import pairwise_tukeyhsd\n",
    "\n",
    "%matplotlib inline"
   ]
  },
  {
   "cell_type": "code",
   "execution_count": 2,
   "metadata": {},
   "outputs": [],
   "source": [
    "# Load the dataset:\n",
    "data = pd.read_csv(\"ESSdata_Thinkful.csv\")\n",
    "\n",
    "# Decode data based on codebook for ease of intepretation:\n",
    "data['year'] = data['year'].map({6: 2012, 7: 2014})\n",
    "data['gndr'] = data['gndr'].map({1: 'Male', 2: 'Female'})\n",
    "data['partner'] = data['partner'].map({1: 'Together', 2: 'Alone'})\n",
    "data['cntry'] = data['cntry'].map({'CH': 'Switzerland',\n",
    "                                'CZ': 'Czech Republic',\n",
    "                                'DE': 'Denmark',\n",
    "                                'ES': 'Spain',\n",
    "                                'NO': 'Norway',\n",
    "                                'SE': 'Sweden'})"
   ]
  },
  {
   "cell_type": "code",
   "execution_count": 3,
   "metadata": {},
   "outputs": [
    {
     "data": {
      "text/html": [
       "<div>\n",
       "<style scoped>\n",
       "    .dataframe tbody tr th:only-of-type {\n",
       "        vertical-align: middle;\n",
       "    }\n",
       "\n",
       "    .dataframe tbody tr th {\n",
       "        vertical-align: top;\n",
       "    }\n",
       "\n",
       "    .dataframe thead th {\n",
       "        text-align: right;\n",
       "    }\n",
       "</style>\n",
       "<table border=\"1\" class=\"dataframe\">\n",
       "  <thead>\n",
       "    <tr style=\"text-align: right;\">\n",
       "      <th></th>\n",
       "      <th>cntry</th>\n",
       "      <th>idno</th>\n",
       "      <th>year</th>\n",
       "      <th>tvtot</th>\n",
       "      <th>ppltrst</th>\n",
       "      <th>pplfair</th>\n",
       "      <th>pplhlp</th>\n",
       "      <th>happy</th>\n",
       "      <th>sclmeet</th>\n",
       "      <th>sclact</th>\n",
       "      <th>gndr</th>\n",
       "      <th>agea</th>\n",
       "      <th>partner</th>\n",
       "    </tr>\n",
       "  </thead>\n",
       "  <tbody>\n",
       "    <tr>\n",
       "      <td>0</td>\n",
       "      <td>Switzerland</td>\n",
       "      <td>5.0</td>\n",
       "      <td>2012</td>\n",
       "      <td>3.0</td>\n",
       "      <td>3.0</td>\n",
       "      <td>10.0</td>\n",
       "      <td>5.0</td>\n",
       "      <td>8.0</td>\n",
       "      <td>5.0</td>\n",
       "      <td>4.0</td>\n",
       "      <td>Female</td>\n",
       "      <td>60.0</td>\n",
       "      <td>Together</td>\n",
       "    </tr>\n",
       "    <tr>\n",
       "      <td>1</td>\n",
       "      <td>Switzerland</td>\n",
       "      <td>25.0</td>\n",
       "      <td>2012</td>\n",
       "      <td>6.0</td>\n",
       "      <td>5.0</td>\n",
       "      <td>7.0</td>\n",
       "      <td>5.0</td>\n",
       "      <td>9.0</td>\n",
       "      <td>3.0</td>\n",
       "      <td>2.0</td>\n",
       "      <td>Female</td>\n",
       "      <td>59.0</td>\n",
       "      <td>Together</td>\n",
       "    </tr>\n",
       "    <tr>\n",
       "      <td>2</td>\n",
       "      <td>Switzerland</td>\n",
       "      <td>26.0</td>\n",
       "      <td>2012</td>\n",
       "      <td>1.0</td>\n",
       "      <td>8.0</td>\n",
       "      <td>8.0</td>\n",
       "      <td>8.0</td>\n",
       "      <td>7.0</td>\n",
       "      <td>6.0</td>\n",
       "      <td>3.0</td>\n",
       "      <td>Male</td>\n",
       "      <td>24.0</td>\n",
       "      <td>Alone</td>\n",
       "    </tr>\n",
       "    <tr>\n",
       "      <td>3</td>\n",
       "      <td>Switzerland</td>\n",
       "      <td>28.0</td>\n",
       "      <td>2012</td>\n",
       "      <td>4.0</td>\n",
       "      <td>6.0</td>\n",
       "      <td>6.0</td>\n",
       "      <td>7.0</td>\n",
       "      <td>10.0</td>\n",
       "      <td>6.0</td>\n",
       "      <td>2.0</td>\n",
       "      <td>Female</td>\n",
       "      <td>64.0</td>\n",
       "      <td>Together</td>\n",
       "    </tr>\n",
       "    <tr>\n",
       "      <td>4</td>\n",
       "      <td>Switzerland</td>\n",
       "      <td>29.0</td>\n",
       "      <td>2012</td>\n",
       "      <td>5.0</td>\n",
       "      <td>6.0</td>\n",
       "      <td>7.0</td>\n",
       "      <td>5.0</td>\n",
       "      <td>8.0</td>\n",
       "      <td>7.0</td>\n",
       "      <td>2.0</td>\n",
       "      <td>Female</td>\n",
       "      <td>55.0</td>\n",
       "      <td>Together</td>\n",
       "    </tr>\n",
       "  </tbody>\n",
       "</table>\n",
       "</div>"
      ],
      "text/plain": [
       "         cntry  idno  year  tvtot  ppltrst  pplfair  pplhlp  happy  sclmeet  \\\n",
       "0  Switzerland   5.0  2012    3.0      3.0     10.0     5.0    8.0      5.0   \n",
       "1  Switzerland  25.0  2012    6.0      5.0      7.0     5.0    9.0      3.0   \n",
       "2  Switzerland  26.0  2012    1.0      8.0      8.0     8.0    7.0      6.0   \n",
       "3  Switzerland  28.0  2012    4.0      6.0      6.0     7.0   10.0      6.0   \n",
       "4  Switzerland  29.0  2012    5.0      6.0      7.0     5.0    8.0      7.0   \n",
       "\n",
       "   sclact    gndr  agea   partner  \n",
       "0     4.0  Female  60.0  Together  \n",
       "1     2.0  Female  59.0  Together  \n",
       "2     3.0    Male  24.0     Alone  \n",
       "3     2.0  Female  64.0  Together  \n",
       "4     2.0  Female  55.0  Together  "
      ]
     },
     "execution_count": 3,
     "metadata": {},
     "output_type": "execute_result"
    }
   ],
   "source": [
    "# Print out the first 5 rows of dataset:\n",
    "data.head()"
   ]
  },
  {
   "cell_type": "code",
   "execution_count": 4,
   "metadata": {},
   "outputs": [
    {
     "name": "stdout",
     "output_type": "stream",
     "text": [
      "<class 'pandas.core.frame.DataFrame'>\n",
      "RangeIndex: 8594 entries, 0 to 8593\n",
      "Data columns (total 13 columns):\n",
      "cntry      8594 non-null object\n",
      "idno       8594 non-null float64\n",
      "year       8594 non-null int64\n",
      "tvtot      8586 non-null float64\n",
      "ppltrst    8580 non-null float64\n",
      "pplfair    8555 non-null float64\n",
      "pplhlp     8569 non-null float64\n",
      "happy      8563 non-null float64\n",
      "sclmeet    8579 non-null float64\n",
      "sclact     8500 non-null float64\n",
      "gndr       8584 non-null object\n",
      "agea       8355 non-null float64\n",
      "partner    8577 non-null object\n",
      "dtypes: float64(9), int64(1), object(3)\n",
      "memory usage: 873.0+ KB\n"
     ]
    }
   ],
   "source": [
    "# Inspect column datatype and missing values:\n",
    "data.info()"
   ]
  },
  {
   "cell_type": "markdown",
   "metadata": {},
   "source": [
    "### Question 1: Did people become less trusting from 2012 to 2014? Compute results for each country in the sample.\n",
    "\n",
    "A/B Test - All participants experience both versions. Use Paired sample t-test or Wilcoxon signed-rank depending on distibution."
   ]
  },
  {
   "cell_type": "code",
   "execution_count": 6,
   "metadata": {},
   "outputs": [
    {
     "data": {
      "image/png": "[encoded data removed]",
      "text/plain": [
       "<Figure size 432x1296 with 12 Axes>"
      ]
     },
     "metadata": {
      "needs_background": "light"
     },
     "output_type": "display_data"
    }
   ],
   "source": [
    "# Plot histograms of trust metric by countries and years:\n",
    "g = sns.FacetGrid(data, col=\"year\",  row=\"cntry\", hue='year')\n",
    "g = g.map(plt.hist, \"ppltrst\")"
   ]
  },
  {
   "cell_type": "code",
   "execution_count": 7,
   "metadata": {},
   "outputs": [
    {
     "name": "stdout",
     "output_type": "stream",
     "text": [
      "\n",
      " Switzerland\n",
      "2012 mean: 5.68\n",
      "2014 mean: 5.75\n",
      "Ttest_relResult(statistic=-0.6586851756725737, pvalue=0.5102943511301135)\n",
      "\n",
      " Czech Republic\n",
      "2012 mean: 4.36\n",
      "2014 mean: 4.42\n",
      "Ttest_relResult(statistic=-0.5001638336887216, pvalue=0.617129268240474)\n",
      "\n",
      " Denmark\n",
      "2012 mean: 5.21\n",
      "2014 mean: 5.36\n",
      "Ttest_relResult(statistic=-0.18399501804849683, pvalue=0.8568563797095805)\n",
      "\n",
      " Spain\n",
      "2012 mean: 5.11\n",
      "2014 mean: 4.90\n",
      "Ttest_relResult(statistic=2.4561906976601646, pvalue=0.014181580725320284)\n",
      "\n",
      " Norway\n",
      "2012 mean: 6.65\n",
      "2014 mean: 6.60\n",
      "Ttest_relResult(statistic=0.5073077081124404, pvalue=0.61209257015177)\n",
      "\n",
      " Sweden\n",
      "2012 mean: 6.06\n",
      "2014 mean: 6.26\n",
      "Ttest_relResult(statistic=-2.0671082026033982, pvalue=0.03900781670958545)\n"
     ]
    }
   ],
   "source": [
    "# Create a list for the countries\n",
    "countries = data['cntry'].unique().tolist()\n",
    "\n",
    "# Calculating paired-ttest:\n",
    "for country in countries :\n",
    "    print('\\n', country)\n",
    "    print('2012 mean: {0:.2f}'.format(data['ppltrst'][(data['cntry'] == country) & (data['year']==2012)].mean()))\n",
    "    print('2014 mean: {0:.2f}'.format(data['ppltrst'][(data['cntry'] == country) & (data['year']==2014)].mean()))\n",
    "    print(stats.ttest_rel(data['ppltrst'][(data['cntry'] == country) & (data['year']==2012)], \n",
    "                          data['ppltrst'][(data['cntry'] == country) & (data['year']==2014)],\n",
    "                          nan_policy='omit'\n",
    "                         ))"
   ]
  },
  {
   "cell_type": "markdown",
   "metadata": {},
   "source": [
    "Looking at the parametric paired t-test with a 5% confident interval result above, the only countries with significant differences between the 2012 and 2014 were ES(Spain) and SE(Sweden):\n",
    "   * Spain is less trustful by about -0.21 points, and\n",
    "   * Sweden is more trustful by about +0.20 points."
   ]
  },
  {
   "cell_type": "code",
   "execution_count": 8,
   "metadata": {},
   "outputs": [
    {
     "name": "stdout",
     "output_type": "stream",
     "text": [
      "\n",
      " Switzerland\n",
      "2012 mean: 5.68\n",
      "2014 mean: 5.75\n",
      "WilcoxonResult(statistic=106278.5, pvalue=0.4411286510952477)\n",
      "\n",
      " Czech Republic\n",
      "2012 mean: 4.36\n",
      "2014 mean: 4.42\n",
      "WilcoxonResult(statistic=82837.0, pvalue=0.2931891426327379)\n",
      "\n",
      " Denmark\n",
      "2012 mean: 5.21\n",
      "2014 mean: 5.36\n",
      "WilcoxonResult(statistic=44.0, pvalue=0.9157134600899863)\n",
      "\n",
      " Spain\n",
      "2012 mean: 5.11\n",
      "2014 mean: 4.90\n",
      "WilcoxonResult(statistic=243475.5, pvalue=0.005570829650439684)\n",
      "\n",
      " Norway\n",
      "2012 mean: 6.65\n",
      "2014 mean: 6.60\n",
      "WilcoxonResult(statistic=85392.0, pvalue=0.6139175669970661)\n",
      "\n",
      " Sweden\n",
      "2012 mean: 6.06\n",
      "2014 mean: 6.26\n",
      "WilcoxonResult(statistic=130719.5, pvalue=0.028545290985536906)\n"
     ]
    },
    {
     "name": "stderr",
     "output_type": "stream",
     "text": [
      "/Users/vilandao/opt/anaconda3/lib/python3.7/site-packages/scipy/stats/morestats.py:2866: RuntimeWarning: invalid value encountered in greater\n",
      "  r_plus = np.sum((d > 0) * r, axis=0)\n",
      "/Users/vilandao/opt/anaconda3/lib/python3.7/site-packages/scipy/stats/morestats.py:2867: RuntimeWarning: invalid value encountered in less\n",
      "  r_minus = np.sum((d < 0) * r, axis=0)\n"
     ]
    }
   ],
   "source": [
    "# Using non-parametric to confirm our findings\n",
    "for country in countries :\n",
    "    print('\\n', country)\n",
    "    print('2012 mean: {0:.2f}'.format(data['ppltrst'][(data['cntry'] == country) & (data['year']==2012)].mean()))\n",
    "    print('2014 mean: {0:.2f}'.format(data['ppltrst'][(data['cntry'] == country) & (data['year']==2014)].mean()))\n",
    "    print(stats.wilcoxon(data['ppltrst'][(data['cntry'] == country) & (data['year']==2012)], \n",
    "                     data['ppltrst'][(data['cntry'] == country) & (data['year']==2014)],\n",
    "                     zero_method='wilcox'\n",
    "                    ))"
   ]
  },
  {
   "cell_type": "markdown",
   "metadata": {},
   "source": [
    "Non-parametric test also confirm our findings, with Spain is the only country with less trust in 2014 compared to 2012.\n",
    "\n",
    "### Question 2: Did people become happier from 2012 to 2014? Compute results for each country in the sample.\n"
   ]
  },
  {
   "cell_type": "code",
   "execution_count": 9,
   "metadata": {},
   "outputs": [
    {
     "data": {
      "image/png": "[encoded data removed]",
      "text/plain": [
       "<Figure size 432x1296 with 12 Axes>"
      ]
     },
     "metadata": {
      "needs_background": "light"
     },
     "output_type": "display_data"
    }
   ],
   "source": [
    "# Plot histograms of happiness metric by countries and years:\n",
    "g = sns.FacetGrid(data, col=\"year\",  row=\"cntry\", hue='year')\n",
    "g = g.map(plt.hist, \"happy\")"
   ]
  },
  {
   "cell_type": "code",
   "execution_count": 10,
   "metadata": {
    "scrolled": true
   },
   "outputs": [
    {
     "data": {
      "text/html": [
       "<table class=\"simpletable\">\n",
       "<caption>Multiple Comparison of Means - Tukey HSD, FWER=0.05</caption>\n",
       "<tr>\n",
       "      <th>group1</th>       <th>group2</th>    <th>meandiff</th>  <th>p-adj</th>  <th>lower</th>   <th>upper</th>  <th>reject</th>\n",
       "</tr>\n",
       "<tr>\n",
       "  <td>Czech Republic</td>   <td>Denmark</td>    <td>0.7359</td>  <td>0.2072</td> <td>-0.1888</td> <td>1.6607</td>   <td>False</td>\n",
       "</tr>\n",
       "<tr>\n",
       "  <td>Czech Republic</td>   <td>Norway</td>     <td>1.2292</td>   <td>0.001</td> <td>1.0432</td>  <td>1.4153</td>   <td>True</td> \n",
       "</tr>\n",
       "<tr>\n",
       "  <td>Czech Republic</td>    <td>Spain</td>     <td>0.6481</td>   <td>0.001</td> <td>0.4791</td>  <td>0.8171</td>   <td>True</td> \n",
       "</tr>\n",
       "<tr>\n",
       "  <td>Czech Republic</td>   <td>Sweden</td>     <td>1.0634</td>   <td>0.001</td> <td>0.8851</td>  <td>1.2417</td>   <td>True</td> \n",
       "</tr>\n",
       "<tr>\n",
       "  <td>Czech Republic</td> <td>Switzerland</td>  <td>1.2566</td>   <td>0.001</td> <td>1.0721</td>   <td>1.441</td>   <td>True</td> \n",
       "</tr>\n",
       "<tr>\n",
       "      <td>Denmark</td>      <td>Norway</td>     <td>0.4933</td>  <td>0.6293</td> <td>-0.4299</td> <td>1.4166</td>   <td>False</td>\n",
       "</tr>\n",
       "<tr>\n",
       "      <td>Denmark</td>       <td>Spain</td>     <td>-0.0878</td>   <td>0.9</td>  <td>-1.0077</td> <td>0.8322</td>   <td>False</td>\n",
       "</tr>\n",
       "<tr>\n",
       "      <td>Denmark</td>      <td>Sweden</td>     <td>0.3275</td>    <td>0.9</td>  <td>-0.5943</td> <td>1.2492</td>   <td>False</td>\n",
       "</tr>\n",
       "<tr>\n",
       "      <td>Denmark</td>    <td>Switzerland</td>  <td>0.5206</td>  <td>0.5803</td> <td>-0.4023</td> <td>1.4435</td>   <td>False</td>\n",
       "</tr>\n",
       "<tr>\n",
       "      <td>Norway</td>        <td>Spain</td>     <td>-0.5811</td>  <td>0.001</td> <td>-0.7416</td> <td>-0.4206</td>  <td>True</td> \n",
       "</tr>\n",
       "<tr>\n",
       "      <td>Norway</td>       <td>Sweden</td>     <td>-0.1659</td> <td>0.0614</td> <td>-0.3361</td> <td>0.0044</td>   <td>False</td>\n",
       "</tr>\n",
       "<tr>\n",
       "      <td>Norway</td>     <td>Switzerland</td>  <td>0.0273</td>    <td>0.9</td>  <td>-0.1494</td>  <td>0.204</td>   <td>False</td>\n",
       "</tr>\n",
       "<tr>\n",
       "       <td>Spain</td>       <td>Sweden</td>     <td>0.4152</td>   <td>0.001</td> <td>0.2638</td>  <td>0.5667</td>   <td>True</td> \n",
       "</tr>\n",
       "<tr>\n",
       "       <td>Spain</td>     <td>Switzerland</td>  <td>0.6084</td>   <td>0.001</td> <td>0.4498</td>  <td>0.7671</td>   <td>True</td> \n",
       "</tr>\n",
       "<tr>\n",
       "      <td>Sweden</td>     <td>Switzerland</td>  <td>0.1932</td>  <td>0.0139</td> <td>0.0247</td>  <td>0.3617</td>   <td>True</td> \n",
       "</tr>\n",
       "</table>"
      ],
      "text/plain": [
       "<class 'statsmodels.iolib.table.SimpleTable'>"
      ]
     },
     "execution_count": 10,
     "metadata": {},
     "output_type": "execute_result"
    }
   ],
   "source": [
    "# Create new dataframe and drop all missing values:\n",
    "data2= data.dropna()\n",
    "\n",
    "# Run normality test to determine what test to use:\n",
    "tukey = pairwise_tukeyhsd(endog=data2['happy'],      \n",
    "                          groups=data2['cntry'],   \n",
    "                          alpha=0.05)         \n",
    "\n",
    "tukey.summary()"
   ]
  },
  {
   "cell_type": "markdown",
   "metadata": {},
   "source": [
    "By running a tukey test on the people's happiness by country for both years, we can see that the results are mixed, but leaning slightly towards non-normal, so it looks like we'll once again have to use a Wilcoxon signed-rank test."
   ]
  },
  {
   "cell_type": "code",
   "execution_count": 11,
   "metadata": {
    "scrolled": true
   },
   "outputs": [
    {
     "name": "stdout",
     "output_type": "stream",
     "text": [
      "\n",
      " Switzerland\n",
      "2012 median: 8.09\n",
      "2014 median: 8.12\n",
      "WilcoxonResult(statistic=92816.5, pvalue=0.8208688161425343)\n",
      "\n",
      " Czech Republic\n",
      "2012 median: 6.77\n",
      "2014 median: 6.91\n",
      "WilcoxonResult(statistic=73213.0, pvalue=0.01064243454053068)\n",
      "\n",
      " Denmark\n",
      "2012 median: 7.43\n",
      "2014 median: 7.86\n",
      "WilcoxonResult(statistic=23.5, pvalue=0.393351316918508)\n",
      "\n",
      " Spain\n",
      "2012 median: 7.55\n",
      "2014 median: 7.42\n",
      "WilcoxonResult(statistic=231958.5, pvalue=0.04923868084306013)\n",
      "\n",
      " Norway\n",
      "2012 median: 8.25\n",
      "2014 median: 7.92\n",
      "WilcoxonResult(statistic=67571.5, pvalue=2.7264367804254175e-06)\n",
      "\n",
      " Sweden\n",
      "2012 median: 7.91\n",
      "2014 median: 7.95\n",
      "WilcoxonResult(statistic=125481.0, pvalue=0.5136403441005022)\n"
     ]
    }
   ],
   "source": [
    "# Use wilcoxon non-parametric method to inspect the difference:\n",
    "for country in countries:\n",
    "    print('\\n', country)\n",
    "    print('2012 median: {0:.2f}'.format(data['happy'][(data['cntry'] == country) & (data['year']==2012)].mean()))\n",
    "    print('2014 median: {0:.2f}'.format(data['happy'][(data['cntry'] == country) & (data['year']==2014)].mean()))  \n",
    "    print(stats.wilcoxon(data['happy'][(data['cntry'] == country) & (data['year']==2012)], \n",
    "                         data['happy'][(data['cntry'] == country) & (data['year']==2014)],\n",
    "                         zero_method='wilcox'\n",
    "                        ))"
   ]
  },
  {
   "cell_type": "markdown",
   "metadata": {},
   "source": [
    "According to non-parametric wilcoxon test with a 5% confident interval result above, the only countries with significant differences between the 2012 and 2014 were ES(Spain) and CZ(Czech Republic):\n",
    "   * Spain is less happy by -0.13 points, and\n",
    "   * Czech Republic is happier by 0.14 points\n",
    "   \n",
    "### Question 3: Who reported watching more TV in 2012, men or women?"
   ]
  },
  {
   "cell_type": "code",
   "execution_count": 12,
   "metadata": {},
   "outputs": [
    {
     "data": {
      "image/png": "[encoded data removed]",
      "text/plain": [
       "<Figure size 432x216 with 2 Axes>"
      ]
     },
     "metadata": {
      "needs_background": "light"
     },
     "output_type": "display_data"
    }
   ],
   "source": [
    "data2012 = data[data['year']==2012]\n",
    "data2012 = data2012.dropna()\n",
    "\n",
    "g = sns.FacetGrid(data2012, col=\"gndr\", hue='gndr')\n",
    "g = g.map(plt.hist, \"tvtot\")"
   ]
  },
  {
   "cell_type": "code",
   "execution_count": 13,
   "metadata": {},
   "outputs": [
    {
     "data": {
      "text/html": [
       "<table class=\"simpletable\">\n",
       "<caption>Multiple Comparison of Means - Tukey HSD, FWER=0.05</caption>\n",
       "<tr>\n",
       "  <th>group1</th> <th>group2</th> <th>meandiff</th> <th>p-adj</th>  <th>lower</th>   <th>upper</th> <th>reject</th>\n",
       "</tr>\n",
       "<tr>\n",
       "  <td>Female</td>  <td>Male</td>   <td>-0.0461</td> <td>0.464</td> <td>-0.1696</td> <td>0.0773</td>  <td>False</td>\n",
       "</tr>\n",
       "</table>"
      ],
      "text/plain": [
       "<class 'statsmodels.iolib.table.SimpleTable'>"
      ]
     },
     "execution_count": 13,
     "metadata": {},
     "output_type": "execute_result"
    }
   ],
   "source": [
    "# Run normality test to determine what test to use\n",
    "tukey = pairwise_tukeyhsd(endog=data2012['tvtot'],      \n",
    "                          groups=data2012['gndr'],   \n",
    "                          alpha=0.05)         \n",
    "\n",
    "tukey.summary()"
   ]
  },
  {
   "cell_type": "markdown",
   "metadata": {},
   "source": [
    "By running a tukey test on the distribution of tv time by gender, it appears as that there's a diffence in the TV watching time. Since this entire experiment is an A/B test, we will use a t-test to compare the two groups."
   ]
  },
  {
   "cell_type": "code",
   "execution_count": 14,
   "metadata": {},
   "outputs": [
    {
     "name": "stdout",
     "output_type": "stream",
     "text": [
      "Male mean: 3.86\n",
      "Female mean: 3.91\n",
      "Ttest_indResult(statistic=-0.7323552192640558, pvalue=0.4639939646110154)\n"
     ]
    }
   ],
   "source": [
    "# Run t-test in order to see if the two groups are significantly different\n",
    "male = data2012['tvtot'][(data2012['gndr'] == 'Male')]\n",
    "female = data2012['tvtot'][(data2012['gndr'] == 'Female')]\n",
    "\n",
    "print('Male mean: {0:.2f}'.format(male.mean()))\n",
    "print('Female mean: {0:.2f}'.format(female.mean()))  \n",
    "print(stats.ttest_ind(male, \n",
    "                    female,\n",
    "                    nan_policy='omit'\n",
    "                    ))"
   ]
  },
  {
   "cell_type": "markdown",
   "metadata": {},
   "source": [
    "Based on our statistic tests, it appears that men and women are statistically no different when it comes to time spent on watching TV. As p value is greater than 0.05, we cannot conclude that a significant difference exists.\n",
    "\n",
    "### Question 4: Who was more likely to believe people were fair in 2012, people living with a partner or people living alone?"
   ]
  },
  {
   "cell_type": "code",
   "execution_count": 15,
   "metadata": {},
   "outputs": [
    {
     "data": {
      "image/png": "[encoded data removed]",
      "text/plain": [
       "<Figure size 432x216 with 2 Axes>"
      ]
     },
     "metadata": {
      "needs_background": "light"
     },
     "output_type": "display_data"
    }
   ],
   "source": [
    "g = sns.FacetGrid(data2012, col=\"partner\", hue='partner')\n",
    "g = g.map(plt.hist, \"pplfair\")"
   ]
  },
  {
   "cell_type": "code",
   "execution_count": 17,
   "metadata": {},
   "outputs": [
    {
     "data": {
      "text/html": [
       "<table class=\"simpletable\">\n",
       "<caption>Multiple Comparison of Means - Tukey HSD, FWER=0.05</caption>\n",
       "<tr>\n",
       "  <th>group1</th>  <th>group2</th>  <th>meandiff</th>  <th>p-adj</th>  <th>lower</th>  <th>upper</th> <th>reject</th>\n",
       "</tr>\n",
       "<tr>\n",
       "   <td>Alone</td> <td>Together</td>  <td>0.2084</td>  <td>0.0024</td> <td>0.0741</td> <td>0.3427</td>  <td>True</td> \n",
       "</tr>\n",
       "</table>"
      ],
      "text/plain": [
       "<class 'statsmodels.iolib.table.SimpleTable'>"
      ]
     },
     "execution_count": 17,
     "metadata": {},
     "output_type": "execute_result"
    }
   ],
   "source": [
    "# Run normality test to determine what test to use\n",
    "tukey = pairwise_tukeyhsd(endog=data2012['pplfair'],      \n",
    "                          groups=data2012['partner'],   \n",
    "                          alpha=0.05)         \n",
    "\n",
    "tukey.summary()"
   ]
  },
  {
   "cell_type": "markdown",
   "metadata": {},
   "source": [
    "Based on the results of our histogram and tukey test, these distributions are clearly not normal, and since the variables that we want to measure are two independent groups, we will be using a Kruskal-Wallace test."
   ]
  },
  {
   "cell_type": "code",
   "execution_count": 20,
   "metadata": {},
   "outputs": [
    {
     "data": {
      "text/plain": [
       "KruskalResult(statistic=11.887452362061, pvalue=0.0005651336752494688)"
      ]
     },
     "execution_count": 20,
     "metadata": {},
     "output_type": "execute_result"
    }
   ],
   "source": [
    "# Print Mood's Median test result for both domestic statuses\n",
    "alone_2012 = data2012[data2012['partner']=='Alone']['pplfair']\n",
    "together_2012 = data2012[data2012['partner']=='Together']['pplfair']\n",
    "    \n",
    "kruskal(alone_2012, together_2012, nan_policy='omit')"
   ]
  },
  {
   "cell_type": "markdown",
   "metadata": {},
   "source": [
    "Based on the results of our test, it would appear as though there is no significant difference between the two groups, people that live with a partner and people that live alone.\n",
    "\n",
    "### Question 5: Pick three or four of the countries in the sample and compare how often people met socially in 2014. Are there differences, and if so, which countries stand out?"
   ]
  },
  {
   "cell_type": "code",
   "execution_count": 21,
   "metadata": {},
   "outputs": [
    {
     "data": {
      "text/plain": [
       "array([[<matplotlib.axes._subplots.AxesSubplot object at 0x1a198b4f50>,\n",
       "        <matplotlib.axes._subplots.AxesSubplot object at 0x1a1992d550>],\n",
       "       [<matplotlib.axes._subplots.AxesSubplot object at 0x1a19c1f410>,\n",
       "        <matplotlib.axes._subplots.AxesSubplot object at 0x1a191b16d0>]],\n",
       "      dtype=object)"
      ]
     },
     "execution_count": 21,
     "metadata": {},
     "output_type": "execute_result"
    },
    {
     "data": {
      "image/png": "[encoded data removed]",
      "text/plain": [
       "<Figure size 432x288 with 4 Axes>"
      ]
     },
     "metadata": {
      "needs_background": "light"
     },
     "output_type": "display_data"
    }
   ],
   "source": [
    "scandinavia = data2.loc[data2['cntry'].isin(['Norway', 'Sweden', 'Denmark'])]\n",
    "\n",
    "(scandinavia.loc[(scandinavia['year']==2014)]).hist(by=['cntry'], column='sclmeet')"
   ]
  },
  {
   "cell_type": "code",
   "execution_count": 22,
   "metadata": {},
   "outputs": [
    {
     "data": {
      "text/html": [
       "<table class=\"simpletable\">\n",
       "<caption>Multiple Comparison of Means - Tukey HSD, FWER=0.05</caption>\n",
       "<tr>\n",
       "  <th>group1</th>  <th>group2</th> <th>meandiff</th>  <th>p-adj</th>  <th>lower</th>   <th>upper</th> <th>reject</th>\n",
       "</tr>\n",
       "<tr>\n",
       "  <td>Denmark</td> <td>Norway</td>   <td>0.77</td>   <td>0.0093</td> <td>0.1554</td>  <td>1.3846</td>  <td>True</td> \n",
       "</tr>\n",
       "<tr>\n",
       "  <td>Denmark</td> <td>Sweden</td>  <td>0.8188</td>   <td>0.005</td> <td>0.2053</td>  <td>1.4324</td>  <td>True</td> \n",
       "</tr>\n",
       "<tr>\n",
       "  <td>Norway</td>  <td>Sweden</td>  <td>0.0489</td>  <td>0.5649</td> <td>-0.0644</td> <td>0.1622</td>  <td>False</td>\n",
       "</tr>\n",
       "</table>"
      ],
      "text/plain": [
       "<class 'statsmodels.iolib.table.SimpleTable'>"
      ]
     },
     "execution_count": 22,
     "metadata": {},
     "output_type": "execute_result"
    }
   ],
   "source": [
    "# Run normality test to determine what test to use\n",
    "tukey = pairwise_tukeyhsd(endog=scandinavia['sclmeet'],      \n",
    "                          groups=scandinavia['cntry'],   \n",
    "                          alpha=0.05)         \n",
    "\n",
    "tukey.summary()"
   ]
  },
  {
   "cell_type": "markdown",
   "metadata": {},
   "source": [
    "Based on the results of our histogram and tukey test, these distributions are clearly not normal, and since the variables that we want to measure are 3 independent groups, we will be using a Kruskal-Wallace test."
   ]
  },
  {
   "cell_type": "code",
   "execution_count": 24,
   "metadata": {},
   "outputs": [
    {
     "data": {
      "text/plain": [
       "KruskalResult(statistic=13.770182720957441, pvalue=0.0010229226963801021)"
      ]
     },
     "execution_count": 24,
     "metadata": {},
     "output_type": "execute_result"
    }
   ],
   "source": [
    "stats.kruskal((scandinavia.loc[(scandinavia['year']==2014) & (scandinavia['cntry']=='Denmark')])['sclmeet'],\n",
    "             (scandinavia.loc[(scandinavia['year']==2014) & (scandinavia['cntry']=='Norway')])['sclmeet'],\n",
    "             (scandinavia.loc[(scandinavia['year']==2014) & (scandinavia['cntry']=='Sweden')])['sclmeet']\n",
    "             )"
   ]
  }
 ],
 "metadata": {
  "kernelspec": {
   "display_name": "Python 3",
   "language": "python",
   "name": "python3"
  },
  "language_info": {
   "codemirror_mode": {
    "name": "ipython",
    "version": 3
   },
   "file_extension": ".py",
   "mimetype": "text/x-python",
   "name": "python",
   "nbconvert_exporter": "python",
   "pygments_lexer": "ipython3",
   "version": "3.7.4"
  }
 },
 "nbformat": 4,
 "nbformat_minor": 2
}
